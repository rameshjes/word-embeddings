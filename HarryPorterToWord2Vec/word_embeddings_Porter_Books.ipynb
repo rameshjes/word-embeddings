{
 "cells": [
  {
   "cell_type": "markdown",
   "metadata": {},
   "source": [
    "# Import Dependencies"
   ]
  },
  {
   "cell_type": "code",
   "execution_count": 1,
   "metadata": {
    "collapsed": true
   },
   "outputs": [],
   "source": [
    "import codecs\n",
    "import glob\n",
    "import multiprocessing\n",
    "import os\n",
    "import pprint\n",
    "import re\n",
    "\n",
    "import nltk\n",
    "from nltk.tokenize import word_tokenize, sent_tokenize\n",
    "\n",
    "import gensim.models.word2vec as w2v\n",
    "import sklearn.manifold\n",
    "import numpy as np\n",
    "import matplotlib.pyplot as plt\n",
    "import pandas as pd\n",
    "import seaborn as sns"
   ]
  },
  {
   "cell_type": "markdown",
   "metadata": {},
   "source": [
    "# Prepare Corpus"
   ]
  },
  {
   "cell_type": "code",
   "execution_count": 2,
   "metadata": {},
   "outputs": [
    {
     "name": "stdout",
     "output_type": "stream",
     "text": [
      "Reading '../harry_poter_books/book1.txt'...\n",
      "Corpus is now 446557 characters long\n",
      "\n",
      "Reading '../harry_poter_books/book2.txt'...\n",
      "Corpus is now 947314 characters long\n",
      "\n",
      "Reading '../harry_poter_books/book3.txt'...\n",
      "Corpus is now 1581110 characters long\n",
      "\n",
      "Reading '../harry_poter_books/book4.txt'...\n",
      "Corpus is now 2701667 characters long\n",
      "\n",
      "Reading '../harry_poter_books/book5.txt'...\n",
      "Corpus is now 4216190 characters long\n",
      "\n",
      "Reading '../harry_poter_books/book6.txt'...\n",
      "Corpus is now 5215791 characters long\n",
      "\n",
      "62576\n"
     ]
    }
   ],
   "source": [
    "# Look harry porter books\n",
    "book_filenames = sorted(glob.glob('../harry_poter_books/*.txt'))\n",
    "\n",
    "# Combine books in one string\n",
    "corpus_raw = u\"\"\n",
    "for book_filename in book_filenames:\n",
    "    print(\"Reading '{0}'...\".format(book_filename))\n",
    "    with codecs.open(book_filename, \"r\", \"utf-8\") as book_file:\n",
    "        corpus_raw += book_file.read()\n",
    "    print(\"Corpus is now {0} characters long\".format(len(corpus_raw)))\n",
    "    print \"\"\n",
    "    \n",
    "# Tokenize into sentences\n",
    "tokenized_sentences = sent_tokenize(corpus_raw)\n",
    "\n",
    "print len(tokenized_sentences)\n"
   ]
  },
  {
   "cell_type": "markdown",
   "metadata": {},
   "source": [
    "### Tokenized sentences"
   ]
  },
  {
   "cell_type": "code",
   "execution_count": 3,
   "metadata": {
    "collapsed": true
   },
   "outputs": [],
   "source": [
    "#convert into a list of words\n",
    "#remove unnnecessary,, split into words, no hyphens\n",
    "#list of words\n",
    "def sentence_to_wordlist(raw):\n",
    "    clean = re.sub(\"[^a-zA-Z]\",\" \", raw)\n",
    "    words = clean.split()\n",
    "    return words\n",
    "\n",
    "#sentence where each word is tokenized\n",
    "sentences = []\n",
    "for raw_sentence in tokenized_sentences:\n",
    "    if len(raw_sentence) > 0:\n",
    "        sentences.append(sentence_to_wordlist(raw_sentence))\n",
    "        \n"
   ]
  },
  {
   "cell_type": "code",
   "execution_count": 4,
   "metadata": {},
   "outputs": [
    {
     "name": "stdout",
     "output_type": "stream",
     "text": [
      "The Dursleys \n",
      "had a small son called Dudley and in their opinion there was no finer boy anywhere.\n",
      "[u'The', u'Dursleys', u'had', u'a', u'small', u'son', u'called', u'Dudley', u'and', u'in', u'their', u'opinion', u'there', u'was', u'no', u'finer', u'boy', u'anywhere']\n"
     ]
    }
   ],
   "source": [
    "\n",
    "print(tokenized_sentences[5])\n",
    "print(sentence_to_wordlist(tokenized_sentences[5]))"
   ]
  },
  {
   "cell_type": "code",
   "execution_count": 5,
   "metadata": {},
   "outputs": [
    {
     "name": "stdout",
     "output_type": "stream",
     "text": [
      "The book corpus contains 918,059 tokens\n"
     ]
    }
   ],
   "source": [
    "#count total number of sentences\n",
    "token_count = sum([len(sentence) for sentence in sentences])\n",
    "print(\"The book corpus contains {0:,} tokens\".format(token_count))"
   ]
  },
  {
   "cell_type": "code",
   "execution_count": 6,
   "metadata": {
    "collapsed": true
   },
   "outputs": [],
   "source": [
    "# Train word2Vec\n",
    "#ONCE we have vectors\n",
    "#step 3 - build model\n",
    "#3 main tasks that vectors help with\n",
    "#DISTANCE, SIMILARITY, RANKING\n",
    "\n",
    "# Dimensionality of the resulting word vectors.\n",
    "#more dimensions, more computationally expensive to train\n",
    "#but also more accurate\n",
    "#more dimensions = more generalized\n",
    "num_features = 300\n",
    "# Minimum word count threshold.\n",
    "min_word_count = 15\n",
    "\n",
    "# Number of threads to run in parallel.\n",
    "#more workers, faster we train\n",
    "num_workers = multiprocessing.cpu_count()\n",
    "# Context window length.\n",
    "context_size = 7\n",
    "\n",
    "# Downsample setting for frequent words.\n",
    "#0 - 1e-5 is good for this\n",
    "downsampling = 1e-3\n",
    "\n",
    "# Seed for the RNG, to make the results reproducible.\n",
    "#random number generator\n",
    "#deterministic, good for debugging\n",
    "seed = 1"
   ]
  },
  {
   "cell_type": "markdown",
   "metadata": {},
   "source": [
    "# Create and Train word2vec Model"
   ]
  },
  {
   "cell_type": "code",
   "execution_count": 7,
   "metadata": {
    "collapsed": true
   },
   "outputs": [],
   "source": [
    "# if sg = 1 then CBOW is used else skip-gram model\n",
    "harryPorter2vec = w2v.Word2Vec(sentences,\n",
    "    sg=1,\n",
    "    seed=seed,\n",
    "    workers=num_workers,\n",
    "    size=num_features,\n",
    "    min_count=min_word_count,\n",
    "    window=context_size,\n",
    "    sample=downsampling\n",
    ")"
   ]
  },
  {
   "cell_type": "markdown",
   "metadata": {},
   "source": [
    "\n",
    "### Save word2vec model"
   ]
  },
  {
   "cell_type": "code",
   "execution_count": 8,
   "metadata": {},
   "outputs": [],
   "source": [
    "# harryPorter2vec.build_vocab(sentences)\n",
    "model_name = \"PotterTrainedModel\"\n",
    "harryPorter2vec.save(model_name)"
   ]
  },
  {
   "cell_type": "markdown",
   "metadata": {},
   "source": [
    "# load saved model"
   ]
  },
  {
   "cell_type": "code",
   "execution_count": 9,
   "metadata": {
    "collapsed": true
   },
   "outputs": [],
   "source": [
    "new_model = w2v.Word2Vec.load('PotterTrainedModel')"
   ]
  },
  {
   "cell_type": "code",
   "execution_count": 10,
   "metadata": {},
   "outputs": [
    {
     "name": "stdout",
     "output_type": "stream",
     "text": [
      "[u'exams', u'incantation', u'hats', u'personally', u'crumpled', u'yellow', u'sleek', u'four', u'Does', u'sleep', u'spiders', u'hanging', u'hate', u'pack', u'marching', u'trolley', u'whose', u'patches', u'swam', u'Diggory', u'containing', u'presents', u'slipping', u'whatsoever', u'under', u'teaching', u'sorry', u'pride', u'worth', u'Avada', u'placed', u'fists', u'Extendable', u'enonnous', u'louder', u'risk', u'rise', u'every', u'foul', u'utmost', u'bringing', u'vast', u'look', u'tickets', u'school', u'bewildered', u'wooden', u'Nice', u'frozen', u'Shacklebolt', u'red', u'greenish', u'Go', u'heading', u'triumph', u'clothes', u'enjoy', u'Leanne', u'Merlin', u'force', u'completely', u'tired', u'awake', u'feathers', u'Weasley', u'surrounding', u'likely', u'street', u'shrugging', u'air', u'quill', u'shining', u'blue', u'hide', u'Gilderoy', u'forgetting', u'painful', u'saved', u'cooking', u'Mudbloods', u'fingers', u'poison', u'lights', u'above', u'sideways', u'Put', u'new', u'tips', u'Sorcerer', u'ever', u'Galleon', u'told', u'Neville', u'kicked', u'hero', u'screams', u'shattered', u'gritted', u'men', u'stared', u'drew', u'hundreds', u'met', u'protection', u'possibility', u'hers', u'path', u'Azkaban', u'crossbow', u'dry', u'kids', u'Burkes', u'luggage', u'Tuesday', u'climbed', u'piercing', u'ignoring', u'transfixed', u'NOT', u'mistake', u'settled', u'punishment', u'glittering', u'eyebrows', u'golden', u'magically', u'explained', u'Three', u'highly', u'brought', u'visible', u'Behind', u'Book', u'drowned', u'punching', u'sprinted', u'glance', u'total', u'ominous', u'spoke', u'would', u'sweater', u'coins', u'June', u'arms', u'insult', u'Houses', u'Vernon', u'music', u'therefore', u'violently', u'strike', u'survive', u'tell', u'separated', u'Sorting', u'supporters', u'Ministry', u'dressing', u'billowing']\n"
     ]
    }
   ],
   "source": [
    "#list vocabulary\n",
    "vocab = list(new_model.wv.vocab.keys())\n",
    "print vocab[:160]"
   ]
  },
  {
   "cell_type": "code",
   "execution_count": 11,
   "metadata": {},
   "outputs": [
    {
     "name": "stderr",
     "output_type": "stream",
     "text": [
      "/home/ramesh/anaconda2/lib/python2.7/site-packages/ipykernel_launcher.py:1: DeprecationWarning: Call to deprecated `__getitem__` (Method will be removed in 4.0.0, use self.wv.__getitem__() instead).\n",
      "  \"\"\"Entry point for launching an IPython kernel.\n"
     ]
    },
    {
     "data": {
      "text/plain": [
       "300"
      ]
     },
     "execution_count": 11,
     "metadata": {},
     "output_type": "execute_result"
    }
   ],
   "source": [
    "len(new_model['Tuesday'])"
   ]
  },
  {
   "cell_type": "code",
   "execution_count": 12,
   "metadata": {},
   "outputs": [
    {
     "data": {
      "text/plain": [
       "[(u'Day', 0.9117708206176758),\n",
       " (u'Wednesday', 0.9087163209915161),\n",
       " (u'Friday', 0.8807086944580078),\n",
       " (u'Today', 0.8695257306098938),\n",
       " (u'weekend', 0.8683939576148987),\n",
       " (u'June', 0.8682065606117249),\n",
       " (u'September', 0.867559552192688),\n",
       " (u'Monday', 0.8658707141876221),\n",
       " (u'yesterday', 0.8653514385223389),\n",
       " (u'trip', 0.8640763163566589),\n",
       " (u'finishing', 0.8614814877510071),\n",
       " (u'practices', 0.8610953092575073),\n",
       " (u'marked', 0.8561346530914307),\n",
       " (u'Last', 0.8556561470031738),\n",
       " (u'Easter', 0.8534767627716064)]"
      ]
     },
     "execution_count": 12,
     "metadata": {},
     "output_type": "execute_result"
    }
   ],
   "source": [
    "new_model.wv.most_similar('Tuesday', topn=15)"
   ]
  },
  {
   "cell_type": "markdown",
   "metadata": {},
   "source": [
    "# Plot using TSNE"
   ]
  },
  {
   "cell_type": "code",
   "execution_count": 13,
   "metadata": {},
   "outputs": [
    {
     "name": "stderr",
     "output_type": "stream",
     "text": [
      "/home/ramesh/anaconda2/lib/python2.7/site-packages/ipykernel_launcher.py:8: DeprecationWarning: Call to deprecated `__getitem__` (Method will be removed in 4.0.0, use self.wv.__getitem__() instead).\n",
      "  \n",
      "/home/ramesh/anaconda2/lib/python2.7/site-packages/ipykernel_launcher.py:15: DeprecationWarning: Call to deprecated `__getitem__` (Method will be removed in 4.0.0, use self.wv.__getitem__() instead).\n",
      "  from ipykernel import kernelapp as app\n"
     ]
    },
    {
     "data": {
      "image/png": "[encoded data removed]",
      "text/plain": [
       "<matplotlib.figure.Figure at 0x7f61778ea0d0>"
      ]
     },
     "metadata": {},
     "output_type": "display_data"
    }
   ],
   "source": [
    "def TSNEPlot(model, word, dimension):\n",
    "    \n",
    "    #Empty vector, to append embeddings of closer/similar words\n",
    "    embeddings_vector = np.empty((0,dimension), dtype='f')\n",
    "    \n",
    "    related_words = []\n",
    "    related_words.append(word)\n",
    "    queried_word_vector = (model[word])\n",
    "    queried_word_vector = queried_word_vector.reshape(1,300)\n",
    "    get_similar_words = model.wv.most_similar(word, topn=60)\n",
    "    embeddings_vector = np.append(embeddings_vector, queried_word_vector, axis=0)\n",
    "    \n",
    "    for sim_word in get_similar_words:\n",
    "        word = sim_word[0]\n",
    "        word_vector = model[word]\n",
    "        related_words.append(word)\n",
    "        word_vector = word_vector.reshape(1,300)\n",
    "        embeddings_vector = np.append(embeddings_vector, word_vector, axis=0)\n",
    "    \n",
    "    # Reduce 300 dimension into two dimension and do scatter plotting\n",
    "    tsne = sklearn.manifold.TSNE(n_components=2, random_state=0)\n",
    "    Y = tsne.fit_transform(embeddings_vector)\n",
    "    plt.figure(figsize=(16,8))\n",
    "    x_coords = Y[1:, 0]\n",
    "    y_coords = Y[1:, 1]\n",
    "    plt.scatter(x_coords, y_coords)\n",
    "\n",
    "    for label, x, y in zip(related_words, x_coords, y_coords):\n",
    "        plt.annotate(label, xy=(x, y), xytext=(0, 0), textcoords='offset points')\n",
    "    plt.scatter([Y[0, 0]], [Y[0,1]])\n",
    "    plt.annotate(word, xy=(Y[0,0], Y[0,1]), xytext=(0, 0), textcoords='offset points')\n",
    "    plt.grid(True)\n",
    "    plt.show()\n",
    "    \n",
    "new_model = w2v.Word2Vec.load('PotterTrainedModel')\n",
    "TSNEPlot(new_model, 'Tuesday', dimension = 300)"
   ]
  },
  {
   "cell_type": "code",
   "execution_count": null,
   "metadata": {
    "collapsed": true
   },
   "outputs": [],
   "source": []
  }
 ],
 "metadata": {
  "kernelspec": {
   "display_name": "Python 2",
   "language": "python",
   "name": "python2"
  },
  "language_info": {
   "codemirror_mode": {
    "name": "ipython",
    "version": 2
   },
   "file_extension": ".py",
   "mimetype": "text/x-python",
   "name": "python",
   "nbconvert_exporter": "python",
   "pygments_lexer": "ipython2",
   "version": "2.7.14"
  }
 },
 "nbformat": 4,
 "nbformat_minor": 2
}
